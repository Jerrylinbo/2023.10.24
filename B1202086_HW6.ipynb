{
  "nbformat": 4,
  "nbformat_minor": 0,
  "metadata": {
    "colab": {
      "provenance": []
    },
    "kernelspec": {
      "name": "python3",
      "display_name": "Python 3"
    },
    "language_info": {
      "name": "python"
    }
  },
  "cells": [
    {
      "cell_type": "code",
      "execution_count": 21,
      "metadata": {
        "id": "aJv8BOTkh_aE",
        "colab": {
          "base_uri": "https://localhost:8080/"
        },
        "outputId": "99940ec3-ebeb-4755-fb8b-e7ca397fa0a2"
      },
      "outputs": [
        {
          "output_type": "stream",
          "name": "stdout",
          "text": [
            "請輸入聖誕樹高度（至少7層以上）：5\n",
            "樹高至少要七層以上！\n"
          ]
        }
      ],
      "source": [
        "def christmastreetop(top):\n",
        "  if top<7:\n",
        "    print('樹高至少要七層以上！')\n",
        "  else:\n",
        "    for a in range(1,top+1):\n",
        "      for b in range(2*top-a*2,1,-2):\n",
        "        print(f' ',end='')\n",
        "      for c in range(1,2*a):\n",
        "        print(f'*',end='')\n",
        "      print('')\n",
        "    for a in range(top+1,top+6):\n",
        "      d='***'\n",
        "      e=' '*(top-3)\n",
        "      print(f'{e}{d}')\n",
        "try:\n",
        "  top=int(input('請輸入聖誕樹高度（至少7層以上）：'))\n",
        "  christmastreetop(top)\n",
        "except:\n",
        "  print('輸入內容錯誤，必須輸入整數')\n"
      ]
    },
    {
      "cell_type": "code",
      "source": [
        "def calculate(a,b):\n",
        "  a/=100\n",
        "  a=a**2\n",
        "  c=b/a\n",
        "  return c\n",
        "def vegetable(c):\n",
        "  if c<18.5:\n",
        "    return('體位:過輕')\n",
        "  elif 18.5<=c<24:\n",
        "    return('體位:適中')\n",
        "  elif 24<=c<27:\n",
        "    return('體位:過重')\n",
        "  else:\n",
        "    return('體位:肥胖')\n",
        "try:\n",
        "  a=float(input('請輸入身高(公分):'))\n",
        "  b=float(input('請輸入體重(公斤):'))\n",
        "  c=calculate(a,b)\n",
        "  result=vegetable(c)\n",
        "  print(f'BMI值:{c}')\n",
        "  print(f'{result}')\n",
        "except:\n",
        "  print('輸入錯誤Error')"
      ],
      "metadata": {
        "colab": {
          "base_uri": "https://localhost:8080/"
        },
        "id": "_lb_xCkOiInk",
        "outputId": "5e7fd499-1133-4a81-89d2-e42089a16ff1"
      },
      "execution_count": 22,
      "outputs": [
        {
          "output_type": "stream",
          "name": "stdout",
          "text": [
            "請輸入身高(公分):190\n",
            "請輸入體重(公斤):95\n",
            "BMI值:26.315789473684212\n",
            "體位:過重\n"
          ]
        }
      ]
    }
  ]
}